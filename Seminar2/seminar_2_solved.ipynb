{
 "cells": [
  {
   "cell_type": "markdown",
   "id": "fa9e11ab",
   "metadata": {},
   "source": [
    "# Seminar: Lists, dictionaries, functions, exceptions\n"
   ]
  },
  {
   "cell_type": "markdown",
   "id": "d0dda828",
   "metadata": {},
   "source": [
    "### Task 1. \n",
    "\n",
    "Write a function which will sum up all values in the list"
   ]
  },
  {
   "cell_type": "markdown",
   "id": "1401ca62",
   "metadata": {},
   "source": [
    "#### a. For the case when input is list of integers."
   ]
  },
  {
   "cell_type": "code",
   "execution_count": 21,
   "id": "8750cd32",
   "metadata": {},
   "outputs": [],
   "source": [
    "def sum_up(my_list):\n",
    "    res_of_sum = 0\n",
    "    for num in my_list:\n",
    "        res_of_sum += num\n",
    "    return res_of_sum"
   ]
  },
  {
   "cell_type": "markdown",
   "id": "b68bdfb6",
   "metadata": {},
   "source": [
    "res_of_sum += num \n",
    "\n",
    "is equal to:\n",
    "\n",
    "res_of_sum = res_of_sum + num"
   ]
  },
  {
   "cell_type": "code",
   "execution_count": 6,
   "id": "fefdbef8",
   "metadata": {},
   "outputs": [
    {
     "data": {
      "text/plain": [
       "6"
      ]
     },
     "execution_count": 6,
     "metadata": {},
     "output_type": "execute_result"
    }
   ],
   "source": [
    "sum_up([1,2,3])"
   ]
  },
  {
   "cell_type": "markdown",
   "id": "e06770f1",
   "metadata": {},
   "source": [
    "#### b. What will be if the input is list of strings?"
   ]
  },
  {
   "cell_type": "code",
   "execution_count": 8,
   "id": "c4aa17cc",
   "metadata": {},
   "outputs": [],
   "source": [
    "def sum_up_str(my_list):\n",
    "    res_of_sum = ''\n",
    "    for el in my_list:\n",
    "        res_of_sum += el\n",
    "    return res_of_sum"
   ]
  },
  {
   "cell_type": "code",
   "execution_count": 10,
   "id": "10fac1f0",
   "metadata": {},
   "outputs": [
    {
     "data": {
      "text/plain": [
       "'admm'"
      ]
     },
     "execution_count": 10,
     "metadata": {},
     "output_type": "execute_result"
    }
   ],
   "source": [
    "sum_up_str(['a', 'd', 'mm'])"
   ]
  },
  {
   "cell_type": "markdown",
   "id": "d67d8c92",
   "metadata": {},
   "source": [
    "#### c. Rewrite the function in the way that we will get a message 'can not work with not numerical types' if list contains not numerical elements."
   ]
  },
  {
   "cell_type": "code",
   "execution_count": 16,
   "id": "d95e80d8",
   "metadata": {},
   "outputs": [],
   "source": [
    "def sum_up_ex(my_list):\n",
    "    res_of_sum = 0\n",
    "    for num in my_list:\n",
    "        try:\n",
    "            res_of_sum += num\n",
    "        except Exception:\n",
    "            print('can not work with not numerical types')\n",
    "            return\n",
    "    return res_of_sum"
   ]
  },
  {
   "cell_type": "code",
   "execution_count": 17,
   "id": "90d87780",
   "metadata": {},
   "outputs": [
    {
     "name": "stdout",
     "output_type": "stream",
     "text": [
      "can not work with not numerical types\n"
     ]
    }
   ],
   "source": [
    "sum_up_ex([1, 4, 'd'])"
   ]
  },
  {
   "cell_type": "markdown",
   "id": "3240b759",
   "metadata": {},
   "source": [
    "#### d. Why do we need to write the exceptions?"
   ]
  },
  {
   "cell_type": "code",
   "execution_count": 19,
   "id": "ad2390cf",
   "metadata": {},
   "outputs": [
    {
     "name": "stdout",
     "output_type": "stream",
     "text": [
      "Step 1\n",
      "can not work with not numerical types\n",
      "Step 2: None\n",
      "Step 3\n"
     ]
    }
   ],
   "source": [
    "print('Step 1')\n",
    "print(f'Step 2: {sum_up_ex([1, 4, \"d\"])}')\n",
    "print('Step 3')"
   ]
  },
  {
   "cell_type": "code",
   "execution_count": 22,
   "id": "ec92a671",
   "metadata": {},
   "outputs": [
    {
     "name": "stdout",
     "output_type": "stream",
     "text": [
      "Step 1\n"
     ]
    },
    {
     "ename": "TypeError",
     "evalue": "unsupported operand type(s) for +=: 'int' and 'str'",
     "output_type": "error",
     "traceback": [
      "\u001b[0;31m---------------------------------------------------------------------------\u001b[0m",
      "\u001b[0;31mTypeError\u001b[0m                                 Traceback (most recent call last)",
      "Input \u001b[0;32mIn [22]\u001b[0m, in \u001b[0;36m<cell line: 2>\u001b[0;34m()\u001b[0m\n\u001b[1;32m      1\u001b[0m \u001b[38;5;28mprint\u001b[39m(\u001b[38;5;124m'\u001b[39m\u001b[38;5;124mStep 1\u001b[39m\u001b[38;5;124m'\u001b[39m)\n\u001b[0;32m----> 2\u001b[0m \u001b[38;5;28mprint\u001b[39m(\u001b[38;5;124mf\u001b[39m\u001b[38;5;124m'\u001b[39m\u001b[38;5;124mStep 2: \u001b[39m\u001b[38;5;132;01m{\u001b[39;00msum_up([\u001b[38;5;241m1\u001b[39m, \u001b[38;5;241m4\u001b[39m, \u001b[38;5;124m\"\u001b[39m\u001b[38;5;124md\u001b[39m\u001b[38;5;124m\"\u001b[39m])\u001b[38;5;132;01m}\u001b[39;00m\u001b[38;5;124m'\u001b[39m)\n\u001b[1;32m      3\u001b[0m \u001b[38;5;28mprint\u001b[39m(\u001b[38;5;124m'\u001b[39m\u001b[38;5;124mStep 3\u001b[39m\u001b[38;5;124m'\u001b[39m)\n",
      "Input \u001b[0;32mIn [21]\u001b[0m, in \u001b[0;36msum_up\u001b[0;34m(my_list)\u001b[0m\n\u001b[1;32m      2\u001b[0m res_of_sum \u001b[38;5;241m=\u001b[39m \u001b[38;5;241m0\u001b[39m\n\u001b[1;32m      3\u001b[0m \u001b[38;5;28;01mfor\u001b[39;00m num \u001b[38;5;129;01min\u001b[39;00m my_list:\n\u001b[0;32m----> 4\u001b[0m     res_of_sum \u001b[38;5;241m+\u001b[39m\u001b[38;5;241m=\u001b[39m num\n\u001b[1;32m      5\u001b[0m \u001b[38;5;28;01mreturn\u001b[39;00m res_of_sum\n",
      "\u001b[0;31mTypeError\u001b[0m: unsupported operand type(s) for +=: 'int' and 'str'"
     ]
    }
   ],
   "source": [
    "print('Step 1')\n",
    "print(f'Step 2: {sum_up([1, 4, \"d\"])}')\n",
    "print('Step 3')"
   ]
  },
  {
   "cell_type": "markdown",
   "id": "278db275",
   "metadata": {},
   "source": [
    "### Task 2."
   ]
  },
  {
   "cell_type": "markdown",
   "id": "d3d3a943",
   "metadata": {},
   "source": [
    "In this task we will work with the dictionary which is the plan for the grocery store:"
   ]
  },
  {
   "cell_type": "code",
   "execution_count": 26,
   "id": "eba4a98b",
   "metadata": {},
   "outputs": [],
   "source": [
    "dic_food = {'apple':5, 'orange':4, 'onion':9}"
   ]
  },
  {
   "cell_type": "markdown",
   "id": "3074601e",
   "metadata": {},
   "source": [
    "#### a. Calculate how many products in total do we have. How many fruits?"
   ]
  },
  {
   "cell_type": "code",
   "execution_count": 30,
   "id": "65fc0173",
   "metadata": {},
   "outputs": [
    {
     "data": {
      "text/plain": [
       "18"
      ]
     },
     "execution_count": 30,
     "metadata": {},
     "output_type": "execute_result"
    }
   ],
   "source": [
    "sum(dic_food.values())"
   ]
  },
  {
   "cell_type": "code",
   "execution_count": 35,
   "id": "f35e6c38",
   "metadata": {},
   "outputs": [
    {
     "data": {
      "text/plain": [
       "18"
      ]
     },
     "execution_count": 35,
     "metadata": {},
     "output_type": "execute_result"
    }
   ],
   "source": [
    "sum([v for v in dic_food.values()])"
   ]
  },
  {
   "cell_type": "code",
   "execution_count": 38,
   "id": "c205408f",
   "metadata": {},
   "outputs": [
    {
     "data": {
      "text/plain": [
       "9"
      ]
     },
     "execution_count": 38,
     "metadata": {},
     "output_type": "execute_result"
    }
   ],
   "source": [
    "list_fruits = ['apple', 'orange']\n",
    "sum([v for k, v in dic_food.items() if k in list_fruits])"
   ]
  },
  {
   "cell_type": "markdown",
   "id": "a3ca5ec2",
   "metadata": {},
   "source": [
    "#### b. Add one more apple and change the numbers of onions to 1"
   ]
  },
  {
   "cell_type": "code",
   "execution_count": 39,
   "id": "d85c63a1",
   "metadata": {},
   "outputs": [
    {
     "data": {
      "text/plain": [
       "{'apple': 5, 'orange': 4, 'onion': 9}"
      ]
     },
     "execution_count": 39,
     "metadata": {},
     "output_type": "execute_result"
    }
   ],
   "source": [
    "dic_food"
   ]
  },
  {
   "cell_type": "code",
   "execution_count": 40,
   "id": "831fe4ba",
   "metadata": {},
   "outputs": [],
   "source": [
    "dic_food['apple'] += 1"
   ]
  },
  {
   "cell_type": "code",
   "execution_count": 41,
   "id": "0b9ace80",
   "metadata": {},
   "outputs": [
    {
     "data": {
      "text/plain": [
       "{'apple': 6, 'orange': 4, 'onion': 9}"
      ]
     },
     "execution_count": 41,
     "metadata": {},
     "output_type": "execute_result"
    }
   ],
   "source": [
    "dic_food"
   ]
  },
  {
   "cell_type": "code",
   "execution_count": 42,
   "id": "6d513519",
   "metadata": {},
   "outputs": [],
   "source": [
    "dic_food['onion'] = 1"
   ]
  },
  {
   "cell_type": "code",
   "execution_count": 43,
   "id": "9e7d3831",
   "metadata": {},
   "outputs": [
    {
     "data": {
      "text/plain": [
       "{'apple': 6, 'orange': 4, 'onion': 1}"
      ]
     },
     "execution_count": 43,
     "metadata": {},
     "output_type": "execute_result"
    }
   ],
   "source": [
    "dic_food"
   ]
  },
  {
   "cell_type": "markdown",
   "id": "7c03197c",
   "metadata": {},
   "source": [
    "#### c. Make the same dictionary from the lists: "
   ]
  },
  {
   "cell_type": "code",
   "execution_count": 44,
   "id": "cc3b305e",
   "metadata": {},
   "outputs": [],
   "source": [
    "prod_name = ['apple', 'orange', 'onion']\n",
    "prod_amount = [1,5,5]"
   ]
  },
  {
   "cell_type": "code",
   "execution_count": 46,
   "id": "6672ef13",
   "metadata": {},
   "outputs": [
    {
     "data": {
      "text/plain": [
       "{'apple': 1, 'orange': 5, 'onion': 5}"
      ]
     },
     "execution_count": 46,
     "metadata": {},
     "output_type": "execute_result"
    }
   ],
   "source": [
    "new_dict = {name:amount for name,amount in zip(prod_name, prod_amount)}\n",
    "new_dict"
   ]
  },
  {
   "cell_type": "markdown",
   "id": "3649c1cb",
   "metadata": {},
   "source": [
    "#### d. What will happened if we have dublicates in the list of keys?"
   ]
  },
  {
   "cell_type": "code",
   "execution_count": 48,
   "id": "c66a0a13",
   "metadata": {},
   "outputs": [],
   "source": [
    "prod_name = ['apple', 'orange', 'onion', 'apple']\n",
    "prod_amount = [1,5,3,2]"
   ]
  },
  {
   "cell_type": "code",
   "execution_count": 49,
   "id": "a1188206",
   "metadata": {},
   "outputs": [
    {
     "data": {
      "text/plain": [
       "{'apple': 2, 'orange': 5, 'onion': 3}"
      ]
     },
     "execution_count": 49,
     "metadata": {},
     "output_type": "execute_result"
    }
   ],
   "source": [
    "{name:amount for name,amount in zip(prod_name, prod_amount)}"
   ]
  },
  {
   "cell_type": "markdown",
   "id": "4b140a01",
   "metadata": {},
   "source": [
    "### Task 3 (from HW) leetcode 219. Contains Duplicate II\n",
    "https://leetcode.com/problems/contains-duplicate-ii/\n",
    "\n",
    "Given an integer array nums and an integer k, return true if there are two distinct indices i and j in the array such that \n",
    "\n",
    "nums[ i ] == nums[ j ] and abs(i - j) <= k."
   ]
  },
  {
   "cell_type": "code",
   "execution_count": 52,
   "id": "93e34d47",
   "metadata": {},
   "outputs": [],
   "source": [
    "def containsNearbyDuplicate(nums, k):\n",
    "    \"\"\"\n",
    "    :type nums: List[int]\n",
    "    :type k: int\n",
    "    :rtype: bool\n",
    "    \"\"\"\n",
    "    if len(set(nums))==len(nums):\n",
    "            return False\n",
    "    for n in set(nums):\n",
    "        ind = [i for i,j in enumerate(nums) if j==n]\n",
    "        if len(ind)>1:\n",
    "            r = min([abs(ind[i]-ind[i+1])  for i in range(len(ind)-1)])\n",
    "            if r<=k:\n",
    "                return True\n",
    "    return False\n"
   ]
  },
  {
   "cell_type": "code",
   "execution_count": 53,
   "id": "3228cbdb",
   "metadata": {},
   "outputs": [
    {
     "data": {
      "text/plain": [
       "False"
      ]
     },
     "execution_count": 53,
     "metadata": {},
     "output_type": "execute_result"
    }
   ],
   "source": [
    "containsNearbyDuplicate([1,4,5,1], 2)"
   ]
  },
  {
   "cell_type": "code",
   "execution_count": null,
   "id": "ab34c2a6",
   "metadata": {},
   "outputs": [],
   "source": []
  }
 ],
 "metadata": {
  "kernelspec": {
   "display_name": "Python 3 (ipykernel)",
   "language": "python",
   "name": "python3"
  },
  "language_info": {
   "codemirror_mode": {
    "name": "ipython",
    "version": 3
   },
   "file_extension": ".py",
   "mimetype": "text/x-python",
   "name": "python",
   "nbconvert_exporter": "python",
   "pygments_lexer": "ipython3",
   "version": "3.9.12"
  }
 },
 "nbformat": 4,
 "nbformat_minor": 5
}
